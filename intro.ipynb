{
  "nbformat": 4,
  "nbformat_minor": 0,
  "metadata": {
    "colab": {
      "name": "intro.ipynb",
      "provenance": [],
      "toc_visible": true,
      "authorship_tag": "ABX9TyOmQ7x+xGEZb85+6EtStrSw",
      "include_colab_link": true
    },
    "kernelspec": {
      "name": "python3",
      "display_name": "Python 3"
    },
    "language_info": {
      "name": "python"
    }
  },
  "cells": [
    {
      "cell_type": "markdown",
      "metadata": {
        "id": "view-in-github",
        "colab_type": "text"
      },
      "source": [
        "<a href=\"https://colab.research.google.com/github/netdaddy59/definitive-guide-aws-infrastructure-automation/blob/master/intro.ipynb\" target=\"_parent\"><img src=\"https://colab.research.google.com/assets/colab-badge.svg\" alt=\"Open In Colab\"/></a>"
      ]
    },
    {
      "cell_type": "markdown",
      "source": [
        "###Sales\n"
      ],
      "metadata": {
        "id": "WQ1WMzVTeonz"
      }
    },
    {
      "cell_type": "code",
      "source": [
        ""
      ],
      "metadata": {
        "id": "V8pEXZP-dwKE"
      },
      "execution_count": null,
      "outputs": []
    },
    {
      "cell_type": "code",
      "source": [
        ""
      ],
      "metadata": {
        "id": "ynXeklJYeTM-"
      },
      "execution_count": null,
      "outputs": []
    },
    {
      "cell_type": "code",
      "source": [
        "revenue = 10000\n",
        "tax =0.19\n",
        "income = revenue * tax\n",
        "income  "
      ],
      "metadata": {
        "colab": {
          "base_uri": "https://localhost:8080/"
        },
        "id": "yoznbCr9dfME",
        "outputId": "254fd5cf-7b84-4169-ef81-b689690d71c7"
      },
      "execution_count": 3,
      "outputs": [
        {
          "output_type": "execute_result",
          "data": {
            "text/plain": [
              "1900.0"
            ]
          },
          "metadata": {},
          "execution_count": 3
        }
      ]
    },
    {
      "cell_type": "code",
      "source": [
        "print(income)"
      ],
      "metadata": {
        "colab": {
          "base_uri": "https://localhost:8080/"
        },
        "id": "ZvhuEj1Ud6tk",
        "outputId": "ff5e959c-fb9f-4b63-c62c-8ef95a3b5af9"
      },
      "execution_count": 4,
      "outputs": [
        {
          "output_type": "stream",
          "name": "stdout",
          "text": [
            "1900.0\n"
          ]
        }
      ]
    },
    {
      "cell_type": "markdown",
      "source": [
        "### Summary"
      ],
      "metadata": {
        "id": "SP34FwYue8bg"
      }
    },
    {
      "cell_type": "code",
      "source": [
        "import numpy as np\n",
        "\n",
        "np.__version__"
      ],
      "metadata": {
        "colab": {
          "base_uri": "https://localhost:8080/",
          "height": 35
        },
        "id": "n8ryMUaVfRPw",
        "outputId": "d59dfb51-49f2-4af7-efdd-b0935e9bad90"
      },
      "execution_count": 5,
      "outputs": [
        {
          "output_type": "execute_result",
          "data": {
            "text/plain": [
              "'1.21.6'"
            ],
            "application/vnd.google.colaboratory.intrinsic+json": {
              "type": "string"
            }
          },
          "metadata": {},
          "execution_count": 5
        }
      ]
    },
    {
      "cell_type": "code",
      "source": [
        "np.random.rand?"
      ],
      "metadata": {
        "id": "JdBVF8PzfrRS"
      },
      "execution_count": 6,
      "outputs": []
    },
    {
      "cell_type": "code",
      "source": [
        "import imageai\n"
      ],
      "metadata": {
        "colab": {
          "base_uri": "https://localhost:8080/",
          "height": 305
        },
        "id": "cRHNN734f_UR",
        "outputId": "70497666-c6ee-4b58-bc15-ea9601b1e2cc"
      },
      "execution_count": 7,
      "outputs": [
        {
          "output_type": "error",
          "ename": "ModuleNotFoundError",
          "evalue": "ignored",
          "traceback": [
            "\u001b[0;31m---------------------------------------------------------------------------\u001b[0m",
            "\u001b[0;31mModuleNotFoundError\u001b[0m                       Traceback (most recent call last)",
            "\u001b[0;32m<ipython-input-7-2cf5b4bddf56>\u001b[0m in \u001b[0;36m<module>\u001b[0;34m()\u001b[0m\n\u001b[0;32m----> 1\u001b[0;31m \u001b[0;32mimport\u001b[0m \u001b[0mimageai\u001b[0m\u001b[0;34m\u001b[0m\u001b[0;34m\u001b[0m\u001b[0m\n\u001b[0m",
            "\u001b[0;31mModuleNotFoundError\u001b[0m: No module named 'imageai'",
            "",
            "\u001b[0;31m---------------------------------------------------------------------------\u001b[0;32m\nNOTE: If your import is failing due to a missing package, you can\nmanually install dependencies using either !pip or !apt.\n\nTo view examples of installing some common dependencies, click the\n\"Open Examples\" button below.\n\u001b[0;31m---------------------------------------------------------------------------\u001b[0m\n"
          ],
          "errorDetails": {
            "actions": [
              {
                "action": "open_url",
                "actionText": "Open Examples",
                "url": "/notebooks/snippets/importing_libraries.ipynb"
              }
            ]
          }
        }
      ]
    },
    {
      "cell_type": "code",
      "source": [
        "!pip install imageai"
      ],
      "metadata": {
        "colab": {
          "base_uri": "https://localhost:8080/",
          "height": 1000
        },
        "id": "AgV7y8I3gRqQ",
        "outputId": "00132849-646b-4823-fe35-96fdede6872e"
      },
      "execution_count": 8,
      "outputs": [
        {
          "output_type": "stream",
          "name": "stdout",
          "text": [
            "Looking in indexes: https://pypi.org/simple, https://us-python.pkg.dev/colab-wheels/public/simple/\n",
            "Collecting imageai\n",
            "  Downloading imageai-2.1.6-py3-none-any.whl (160 kB)\n",
            "\u001b[K     |████████████████████████████████| 160 kB 5.0 MB/s \n",
            "\u001b[?25hCollecting pillow==7.0.0\n",
            "  Downloading Pillow-7.0.0-cp37-cp37m-manylinux1_x86_64.whl (2.1 MB)\n",
            "\u001b[K     |████████████████████████████████| 2.1 MB 49.2 MB/s \n",
            "\u001b[?25hRequirement already satisfied: opencv-python in /usr/local/lib/python3.7/dist-packages (from imageai) (4.1.2.30)\n",
            "Collecting keras-resnet==0.2.0\n",
            "  Downloading keras-resnet-0.2.0.tar.gz (9.3 kB)\n",
            "Collecting keras==2.4.3\n",
            "  Downloading Keras-2.4.3-py2.py3-none-any.whl (36 kB)\n",
            "Collecting matplotlib==3.3.2\n",
            "  Downloading matplotlib-3.3.2-cp37-cp37m-manylinux1_x86_64.whl (11.6 MB)\n",
            "\u001b[K     |████████████████████████████████| 11.6 MB 28.0 MB/s \n",
            "\u001b[?25hCollecting numpy==1.19.3\n",
            "  Downloading numpy-1.19.3-cp37-cp37m-manylinux2010_x86_64.whl (14.9 MB)\n",
            "\u001b[K     |████████████████████████████████| 14.9 MB 23.6 MB/s \n",
            "\u001b[?25hRequirement already satisfied: scipy==1.4.1 in /usr/local/lib/python3.7/dist-packages (from imageai) (1.4.1)\n",
            "Collecting h5py==2.10.0\n",
            "  Downloading h5py-2.10.0-cp37-cp37m-manylinux1_x86_64.whl (2.9 MB)\n",
            "\u001b[K     |████████████████████████████████| 2.9 MB 48.9 MB/s \n",
            "\u001b[?25hRequirement already satisfied: six in /usr/local/lib/python3.7/dist-packages (from h5py==2.10.0->imageai) (1.15.0)\n",
            "Requirement already satisfied: pyyaml in /usr/local/lib/python3.7/dist-packages (from keras==2.4.3->imageai) (3.13)\n",
            "Requirement already satisfied: cycler>=0.10 in /usr/local/lib/python3.7/dist-packages (from matplotlib==3.3.2->imageai) (0.11.0)\n",
            "Requirement already satisfied: certifi>=2020.06.20 in /usr/local/lib/python3.7/dist-packages (from matplotlib==3.3.2->imageai) (2022.5.18.1)\n",
            "Requirement already satisfied: pyparsing!=2.0.4,!=2.1.2,!=2.1.6,>=2.0.3 in /usr/local/lib/python3.7/dist-packages (from matplotlib==3.3.2->imageai) (3.0.9)\n",
            "Requirement already satisfied: kiwisolver>=1.0.1 in /usr/local/lib/python3.7/dist-packages (from matplotlib==3.3.2->imageai) (1.4.2)\n",
            "Requirement already satisfied: python-dateutil>=2.1 in /usr/local/lib/python3.7/dist-packages (from matplotlib==3.3.2->imageai) (2.8.2)\n",
            "Requirement already satisfied: typing-extensions in /usr/local/lib/python3.7/dist-packages (from kiwisolver>=1.0.1->matplotlib==3.3.2->imageai) (4.2.0)\n",
            "Building wheels for collected packages: keras-resnet\n",
            "  Building wheel for keras-resnet (setup.py) ... \u001b[?25l\u001b[?25hdone\n",
            "  Created wheel for keras-resnet: filename=keras_resnet-0.2.0-py2.py3-none-any.whl size=20486 sha256=11ec0473b3c81a6249f0ffa6a1490b4ebb9002f42eefeb6ff55fe74738fe6628\n",
            "  Stored in directory: /root/.cache/pip/wheels/bd/ef/06/5d65f696360436c3a423020c4b7fd8c558c09ef264a0e6c575\n",
            "Successfully built keras-resnet\n",
            "Installing collected packages: numpy, h5py, pillow, keras, matplotlib, keras-resnet, imageai\n",
            "  Attempting uninstall: numpy\n",
            "    Found existing installation: numpy 1.21.6\n",
            "    Uninstalling numpy-1.21.6:\n",
            "      Successfully uninstalled numpy-1.21.6\n",
            "  Attempting uninstall: h5py\n",
            "    Found existing installation: h5py 3.1.0\n",
            "    Uninstalling h5py-3.1.0:\n",
            "      Successfully uninstalled h5py-3.1.0\n",
            "  Attempting uninstall: pillow\n",
            "    Found existing installation: Pillow 7.1.2\n",
            "    Uninstalling Pillow-7.1.2:\n",
            "      Successfully uninstalled Pillow-7.1.2\n",
            "  Attempting uninstall: keras\n",
            "    Found existing installation: keras 2.8.0\n",
            "    Uninstalling keras-2.8.0:\n",
            "      Successfully uninstalled keras-2.8.0\n",
            "  Attempting uninstall: matplotlib\n",
            "    Found existing installation: matplotlib 3.2.2\n",
            "    Uninstalling matplotlib-3.2.2:\n",
            "      Successfully uninstalled matplotlib-3.2.2\n",
            "\u001b[31mERROR: pip's dependency resolver does not currently take into account all the packages that are installed. This behaviour is the source of the following dependency conflicts.\n",
            "xarray-einstats 0.2.2 requires numpy>=1.21, but you have numpy 1.19.3 which is incompatible.\n",
            "tensorflow 2.8.2+zzzcolab20220527125636 requires keras<2.9,>=2.8.0rc0, but you have keras 2.4.3 which is incompatible.\n",
            "tensorflow 2.8.2+zzzcolab20220527125636 requires numpy>=1.20, but you have numpy 1.19.3 which is incompatible.\n",
            "datascience 0.10.6 requires folium==0.2.1, but you have folium 0.8.3 which is incompatible.\n",
            "bokeh 2.3.3 requires pillow>=7.1.0, but you have pillow 7.0.0 which is incompatible.\n",
            "albumentations 0.1.12 requires imgaug<0.2.7,>=0.2.5, but you have imgaug 0.2.9 which is incompatible.\u001b[0m\n",
            "Successfully installed h5py-2.10.0 imageai-2.1.6 keras-2.4.3 keras-resnet-0.2.0 matplotlib-3.3.2 numpy-1.19.3 pillow-7.0.0\n"
          ]
        },
        {
          "output_type": "display_data",
          "data": {
            "application/vnd.colab-display-data+json": {
              "pip_warning": {
                "packages": [
                  "PIL",
                  "matplotlib",
                  "mpl_toolkits",
                  "numpy"
                ]
              }
            }
          },
          "metadata": {}
        }
      ]
    },
    {
      "cell_type": "markdown",
      "source": [
        "### Markdown"
      ],
      "metadata": {
        "id": "3YgifO4lg93I"
      }
    },
    {
      "cell_type": "markdown",
      "source": [
        "Examples of *markdown*  \n",
        "Examples of **markdown**  \n",
        "Examples of _markdown_  \n",
        "Examples of `markdown`'  \n",
        "```\n",
        "Examples of markdown\n",
        "```\n",
        ">Python\n",
        ">>> Code\n",
        "\n",
        "An ordered list:  \n",
        "1. One  \n",
        "2. Two  \n",
        "3. Three\n",
        "\n",
        "An unordered list\n",
        "* One  \n",
        "* Two\n",
        "* Three \n",
        "\n",
        "\n"
      ],
      "metadata": {
        "id": "6blmEblsh6Sg"
      }
    },
    {
      "cell_type": "markdown",
      "source": [
        "[Google](https://www.google.com/)  \n",
        "\n",
        "![Python](data:image/jpeg;base64,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)  \n"
      ],
      "metadata": {
        "id": "VTc75YvAjwI2"
      }
    },
    {
      "cell_type": "markdown",
      "source": [
        "$y = x^25$  \n",
        "\n",
        "$\\frac{1}{n} \\sum_{i=1}^{n}x_{i}$"
      ],
      "metadata": {
        "id": "2c0GXgqXlJS1"
      }
    },
    {
      "cell_type": "markdown",
      "source": [
        "$A = \\begin{pmatrix}  \n",
        "a_{1, 1} & a_{1, 2}  \\\\\n",
        "a_{2, 1} & a_{2, 2} \n",
        "\\end {pmatrix}$ \n"
      ],
      "metadata": {
        "id": "yYK-mbLjnipD"
      }
    },
    {
      "cell_type": "markdown",
      "source": [
        "Col1  |  Col2  | Col3\n",
        "---   |  ---  |  ---  \n",
        "val1  |  val2  |  val3  \n",
        "val4  |  val5  |  val6"
      ],
      "metadata": {
        "id": "iWaIrNlgpA9R"
      }
    },
    {
      "cell_type": "code",
      "source": [
        ""
      ],
      "metadata": {
        "id": "61YjJWhdjCht"
      },
      "execution_count": null,
      "outputs": []
    }
  ]
}